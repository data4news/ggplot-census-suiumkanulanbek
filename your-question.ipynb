{
 "cells": [
  {
   "cell_type": "markdown",
   "metadata": {},
   "source": [
    "## Setup"
   ]
  },
  {
   "cell_type": "code",
   "execution_count": 2,
   "metadata": {},
   "outputs": [],
   "source": [
    "%load_ext rpy2.ipython\n",
    "%load_ext autoreload\n",
    "%autoreload 2\n",
    "\n",
    "%matplotlib inline  \n",
    "from matplotlib import rcParams\n",
    "rcParams['figure.figsize'] = (16, 100)\n",
    "\n",
    "import warnings\n",
    "from rpy2.rinterface import RRuntimeWarning\n",
    "warnings.filterwarnings(\"ignore\") # Ignore all warnings\n",
    "# warnings.filterwarnings(\"ignore\", category=RRuntimeWarning) # Show some warnings\n",
    "\n",
    "import pandas as pd\n",
    "import numpy as np\n",
    "import matplotlib.pyplot as plt\n",
    "from IPython.display import display, HTML"
   ]
  },
  {
   "cell_type": "code",
   "execution_count": 3,
   "metadata": {},
   "outputs": [
    {
     "data": {
      "application/javascript": [
       "// Disable auto-scrolling\n",
       "IPython.OutputArea.prototype._should_scroll = function(lines) {\n",
       "    return false;\n",
       "}\n"
      ],
      "text/plain": [
       "<IPython.core.display.Javascript object>"
      ]
     },
     "metadata": {},
     "output_type": "display_data"
    }
   ],
   "source": [
    "%%javascript\n",
    "// Disable auto-scrolling\n",
    "IPython.OutputArea.prototype._should_scroll = function(lines) {\n",
    "    return false;\n",
    "}"
   ]
  },
  {
   "cell_type": "markdown",
   "metadata": {},
   "source": [
    "## TidyCensus Example\n",
    "\n",
    "This notebook grabs data from the US Census using the [tidycensus package in R](https://walker-data.com/tidycensus/index.html). Make sure you have installed the `tidyverse` and `tidycensus` packages."
   ]
  },
  {
   "cell_type": "code",
   "execution_count": 4,
   "metadata": {},
   "outputs": [
    {
     "name": "stdout",
     "output_type": "stream",
     "text": [
      "── Attaching core tidyverse packages ──────────────────────── tidyverse 2.0.0 ──\n",
      "✔ dplyr     1.1.4     ✔ readr     2.1.5\n",
      "✔ forcats   1.0.0     ✔ stringr   1.5.1\n",
      "✔ ggplot2   3.5.1     ✔ tibble    3.2.1\n",
      "✔ lubridate 1.9.4     ✔ tidyr     1.3.1\n",
      "✔ purrr     1.0.2     \n",
      "── Conflicts ────────────────────────────────────────── tidyverse_conflicts() ──\n",
      "✖ dplyr::filter() masks stats::filter()\n",
      "✖ dplyr::lag()    masks stats::lag()\n",
      "ℹ Use the conflicted package (<http://conflicted.r-lib.org/>) to force all conflicts to become errors\n"
     ]
    }
   ],
   "source": [
    "%%R \n",
    "\n",
    "library(tidycensus)\n",
    "library(tidyverse)\n",
    "\n",
    "# store any shapefiles we grab from the census in ~/Library/Caches/tigris\n",
    "# in case the government removes the shapefiles FTP server again 😭\n",
    "options(tigris_use_cache = TRUE)"
   ]
  },
  {
   "cell_type": "markdown",
   "metadata": {},
   "source": [
    "### Step 1 \\| Load Census API key from `.env` file\n",
    "\n",
    "The `.env` file should look like this:\n",
    "\n",
    "```bash\n",
    "CENSUS_API_KEY=\"your-api-key-here\"\n",
    "```\n",
    "\n",
    "This is what is known as an environment variable. \n",
    "\n",
    "We load it below in Python"
   ]
  },
  {
   "cell_type": "code",
   "execution_count": 5,
   "metadata": {},
   "outputs": [
    {
     "data": {
      "text/plain": [
       "True"
      ]
     },
     "execution_count": 5,
     "metadata": {},
     "output_type": "execute_result"
    }
   ],
   "source": [
    "from dotenv import load_dotenv\n",
    "load_dotenv() # <- searches for a file named .env and loads the environment variables in it"
   ]
  },
  {
   "cell_type": "markdown",
   "metadata": {},
   "source": [
    "And in this cell we pass the environment variable to tidycensus in R"
   ]
  },
  {
   "cell_type": "code",
   "execution_count": 6,
   "metadata": {},
   "outputs": [
    {
     "data": {
      "text/plain": [
       "To install your API key for use in future sessions, run this function with `install = TRUE`.\n"
      ]
     },
     "metadata": {},
     "output_type": "display_data"
    }
   ],
   "source": [
    "%%R \n",
    "\n",
    "census_api_key(Sys.getenv(\"CENSUS_API_KEY\")) # <- Loads CENSUS_API_KEY from environment variable and sets it in R"
   ]
  },
  {
   "cell_type": "markdown",
   "metadata": {},
   "source": [
    "### Step 2 \\| Figure out what tables you want data from and at what geographic granularity\n",
    "\n",
    "Use <https://censusreporter.org/> to figure out which tables you want.\n",
    "\n",
    "-   Scroll to the bottom of the page to see the tables.\n",
    "-   If you already know the table ID, stick that in the \"Explore\" section to learn more about that table.\n",
    "\n",
    "Note, you probably always want population variable (B01003_001) which we found in censusreporter here: https://censusreporter.org/tables/B01003/\n",
    "\n",
    "- find some other variables that you're also interested in\n",
    "- don't forget to pick a geography like \"tract\", \"county\" or \"block group\". here is the list of [all geographies](https://walker-data.com/tidycensus/articles/basic-usage.html#geography-in-tidycensus\n",
    ").\n",
    "\n",
    "👉 use the code from the example notebooks to get the variables you're interested in. feel free to use ChatGPT for help"
   ]
  },
  {
   "cell_type": "code",
   "execution_count": 7,
   "metadata": {},
   "outputs": [
    {
     "name": "stdout",
     "output_type": "stream",
     "text": [
      "Simple feature collection with 6981 features and 5 fields (with 3 geometries empty)\n",
      "Geometry type: MULTIPOLYGON\n",
      "Dimension:     XY\n",
      "Bounding box:  xmin: -74.25609 ymin: 40.4961 xmax: -73.70036 ymax: 40.91771\n",
      "Geodetic CRS:  NAD83\n",
      "First 10 features:\n",
      "         GEOID                                       NAME    variable estimate\n",
      " 36081014700  Census Tract 147, Queens County, New York  population     2863\n",
      " 36081014700  Census Tract 147, Queens County, New York     med_inc    71815\n",
      " 36081014700  Census Tract 147, Queens County, New York total_units     1570\n",
      " 36047058400   Census Tract 584, Kings County, New York  population     3655\n",
      " 36047058400   Census Tract 584, Kings County, New York     med_inc    67315\n",
      " 36047058400   Census Tract 584, Kings County, New York total_units     1498\n",
      " 36061006900 Census Tract 69, New York County, New York  population     2450\n",
      " 36061006900 Census Tract 69, New York County, New York     med_inc   237500\n",
      " 36061006900 Census Tract 69, New York County, New York total_units     1429\n",
      " 36047073000   Census Tract 730, Kings County, New York  population     2676\n",
      "     moe                       geometry\n",
      "   513 MULTIPOLYGON (((-73.9137 40...\n",
      " 18034 MULTIPOLYGON (((-73.9137 40...\n",
      "   213 MULTIPOLYGON (((-73.9137 40...\n",
      "   529 MULTIPOLYGON (((-73.96103 4...\n",
      " 10294 MULTIPOLYGON (((-73.96103 4...\n",
      "   167 MULTIPOLYGON (((-73.96103 4...\n",
      "   372 MULTIPOLYGON (((-74.02064 4...\n",
      " 65948 MULTIPOLYGON (((-74.02064 4...\n",
      "   134 MULTIPOLYGON (((-74.02064 4...\n",
      "   534 MULTIPOLYGON (((-73.93345 4...\n"
     ]
    },
    {
     "data": {
      "text/plain": [
       "Getting data from the 2017-2021 5-year ACS\n",
       "Using FIPS code '36' for state 'NY'\n",
       "Using FIPS code '061' for 'New York County'\n",
       "Using FIPS code '047' for 'Kings County'\n",
       "Using FIPS code '081' for 'Queens County'\n",
       "Using FIPS code '005' for 'Bronx County'\n",
       "Using FIPS code '085' for 'Richmond County'\n"
      ]
     },
     "metadata": {},
     "output_type": "display_data"
    }
   ],
   "source": [
    "%%R \n",
    "\n",
    "# this code is incomplete, refer to example notebooks\n",
    "# and use chat gpt for help getting census variables\n",
    "nyc_census_data <- get_acs(geography = \"tract\", \n",
    "                      state='NY',\n",
    "                      county = c(\"New York\", \"Kings\", \"Queens\", \"Bronx\", \"Richmond\"),\n",
    "                      variables = c(\n",
    "                        population=\"B01003_001\",\n",
    "                        total_units = \"B25001_001\",\n",
    "                        med_inc=\"B19013_001\"\n",
    "                      ), \n",
    "                      year = 2021,\n",
    "                      survey=\"acs5\",\n",
    "                      geometry=T)\n",
    "\n",
    "nyc_census_data\n"
   ]
  },
  {
   "cell_type": "markdown",
   "metadata": {},
   "source": [
    "### Step 3 | Pivot to Wide Format\n",
    "\n",
    "Pivot from long to wide using `pivot_wider`.\n",
    "\n",
    "Depending on what you're trying to do, you may want the data in long or wide format. This example pivots the data to wide format, which will help us with mapping later on in the notebook."
   ]
  },
  {
   "cell_type": "code",
   "execution_count": null,
   "metadata": {},
   "outputs": [],
   "source": [
    "%%R \n",
    "\n",
    "nyc_census_data <- nyc_census_data %>% \n",
    "  pivot_wider(\n",
    "    names_from=variable, \n",
    "    values_from = c(estimate, moe),\n",
    "    names_glue = \"{variable}_{.value}\"\n",
    "  ) # pivot from wide to long\n",
    "\n",
    "nyc_census_data"
   ]
  },
  {
   "cell_type": "markdown",
   "metadata": {},
   "source": [
    "### Step 4 | Do calculations with `mutate`\n",
    "\n",
    "In R, you can use `mutate` to create new columns or modify existing ones.\n",
    "\n",
    "👉 In this step, do any calculations you need (for example if you have the total black population, but you want it as a percent of total population in a census tract, you may have to do some division)"
   ]
  },
  {
   "cell_type": "code",
   "execution_count": null,
   "metadata": {},
   "outputs": [],
   "source": [
    "%%R \n",
    "\n",
    "# your code here. refer to example notebooks for help\n"
   ]
  },
  {
   "cell_type": "markdown",
   "metadata": {},
   "source": [
    "### Step 5 | Example Plots\n",
    "\n",
    "Use histograms or dotplots to view the distributions"
   ]
  },
  {
   "cell_type": "code",
   "execution_count": null,
   "metadata": {},
   "outputs": [],
   "source": [
    "%%R -w 1000\n",
    "\n",
    "ggplot()\n",
    "\n",
    "\n",
    "# your code here. refer to example notebooks for help\n"
   ]
  },
  {
   "cell_type": "markdown",
   "metadata": {},
   "source": [
    "### Step 6 \\| Example Map\n",
    "\n",
    "See more details about making maps here:\n",
    "\n",
    "https://walker-data.com/tidycensus/articles/spatial-data.html"
   ]
  },
  {
   "cell_type": "code",
   "execution_count": null,
   "metadata": {},
   "outputs": [],
   "source": [
    "%%R -w 1000 -h 1000\n",
    "\n",
    "# your code here. refer to example notebooks for help\n"
   ]
  }
 ],
 "metadata": {
  "kernelspec": {
   "display_name": "Python 3 (ipykernel)",
   "language": "python",
   "name": "python3"
  },
  "language_info": {
   "codemirror_mode": {
    "name": "ipython",
    "version": 3
   },
   "file_extension": ".py",
   "mimetype": "text/x-python",
   "name": "python",
   "nbconvert_exporter": "python",
   "pygments_lexer": "ipython3",
   "version": "3.11.8"
  }
 },
 "nbformat": 4,
 "nbformat_minor": 4
}
